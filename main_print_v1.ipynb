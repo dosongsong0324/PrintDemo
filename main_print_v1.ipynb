{
 "cells": [
  {
   "cell_type": "markdown",
   "id": "d56961a2",
   "metadata": {},
   "source": [
    "## 이것은 print 예제 입니다."
   ]
  },
  {
   "cell_type": "code",
   "execution_count": 1,
   "id": "c7861cd9",
   "metadata": {},
   "outputs": [
    {
     "name": "stdout",
     "output_type": "stream",
     "text": [
      "Hello Python!\n"
     ]
    }
   ],
   "source": [
    "# 변수 선언\n",
    "name = 'Alice'\n",
    "age = 25\n",
    "score = 95.5\n",
    "\n",
    "# 1. 기본 출력\n",
    "print(\"Hello Python!\")"
   ]
  },
  {
   "cell_type": "code",
   "execution_count": 2,
   "id": "c9e7a750",
   "metadata": {},
   "outputs": [
    {
     "name": "stdout",
     "output_type": "stream",
     "text": [
      "Name: Alice Age: 25 Score: 95.5\n"
     ]
    }
   ],
   "source": [
    "# 2. 여러 값 출력 (콤마로 구분 -> 자동 띄어쓰기)\n",
    "print(\"Name:\", name, \"Age:\", age, \"Score:\", score)"
   ]
  },
  {
   "cell_type": "markdown",
   "id": "428f180a",
   "metadata": {},
   "source": []
  }
 ],
 "metadata": {
  "kernelspec": {
   "display_name": ".venv",
   "language": "python",
   "name": "python3"
  },
  "language_info": {
   "codemirror_mode": {
    "name": "ipython",
    "version": 3
   },
   "file_extension": ".py",
   "mimetype": "text/x-python",
   "name": "python",
   "nbconvert_exporter": "python",
   "pygments_lexer": "ipython3",
   "version": "3.13.7"
  }
 },
 "nbformat": 4,
 "nbformat_minor": 5
}
